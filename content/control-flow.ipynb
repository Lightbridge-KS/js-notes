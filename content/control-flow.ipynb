{
 "cells": [
  {
   "cell_type": "markdown",
   "id": "da835170",
   "metadata": {},
   "source": [
    "# Control Flow"
   ]
  },
  {
   "cell_type": "markdown",
   "id": "ade51b34",
   "metadata": {},
   "source": [
    "## Conditional Statements"
   ]
  },
  {
   "cell_type": "markdown",
   "id": "49749ae1",
   "metadata": {
    "vscode": {
     "languageId": "plaintext"
    }
   },
   "source": [
    "### if/else Statement"
   ]
  },
  {
   "cell_type": "code",
   "execution_count": 2,
   "id": "861e4f7a",
   "metadata": {},
   "outputs": [
    {
     "name": "stdout",
     "output_type": "stream",
     "text": [
      "Grade: B\n"
     ]
    }
   ],
   "source": [
    "let score = 85;\n",
    "\n",
    "if (score >= 90) {\n",
    "    console.log(\"Grade: A\");\n",
    "} else if (score >= 80) {\n",
    "    console.log(\"Grade: B\");\n",
    "} else if (score >= 70) {\n",
    "    console.log(\"Grade: C\");\n",
    "} else {\n",
    "    console.log(\"Grade: F\");\n",
    "}"
   ]
  },
  {
   "cell_type": "markdown",
   "id": "553fae12",
   "metadata": {},
   "source": [
    "### Ternary Conditional Operator\n",
    "\n",
    "A compact form for simple if/else situations:\n",
    "\n",
    "```js\n",
    "condition ? expressionIfTrue : expressionIfFalse\n",
    "```"
   ]
  },
  {
   "cell_type": "code",
   "execution_count": 2,
   "id": "ed7c6445",
   "metadata": {},
   "outputs": [
    {
     "name": "stdout",
     "output_type": "stream",
     "text": [
      "adult\n"
     ]
    }
   ],
   "source": [
    "let age = 19;\n",
    "let status = age >= 18 ? \"adult\" : \"minor\";\n",
    "console.log(status);"
   ]
  },
  {
   "cell_type": "markdown",
   "id": "e1ca2efd",
   "metadata": {},
   "source": [
    "### switch Statement"
   ]
  },
  {
   "cell_type": "code",
   "execution_count": 3,
   "id": "d9dd16d0",
   "metadata": {},
   "outputs": [
    {
     "name": "stdout",
     "output_type": "stream",
     "text": [
      "Wednesday\n"
     ]
    }
   ],
   "source": [
    "let day = 3;\n",
    "let dayName;\n",
    "\n",
    "switch (day) {\n",
    "    case 1:\n",
    "        dayName = \"Monday\";\n",
    "        break;\n",
    "    case 2:\n",
    "        dayName = \"Tuesday\";\n",
    "        break;\n",
    "    case 3:\n",
    "        dayName = \"Wednesday\";\n",
    "        break;\n",
    "    case 4:\n",
    "        dayName = \"Thursday\";\n",
    "        break;\n",
    "    case 5:\n",
    "        dayName = \"Friday\";\n",
    "        break;\n",
    "    default:\n",
    "        dayName = \"Weekend\";\n",
    "}\n",
    "\n",
    "console.log(dayName); "
   ]
  },
  {
   "cell_type": "markdown",
   "id": "1f793661",
   "metadata": {},
   "source": [
    "Note the importance of the `break` statement - without it, execution \"falls through\" to the next case. This can be useful in some scenarios but is usually a source of bugs."
   ]
  },
  {
   "cell_type": "markdown",
   "id": "6ee7f689",
   "metadata": {},
   "source": [
    "## `For` Loops"
   ]
  },
  {
   "cell_type": "markdown",
   "id": "588bac38",
   "metadata": {},
   "source": [
    "### traditional `for` Loop\n",
    "\n",
    "The traditional counting loop:"
   ]
  },
  {
   "cell_type": "code",
   "execution_count": 4,
   "id": "7246c1b4",
   "metadata": {},
   "outputs": [
    {
     "name": "stdout",
     "output_type": "stream",
     "text": [
      "0\n",
      "1\n",
      "2\n",
      "3\n",
      "4\n"
     ]
    }
   ],
   "source": [
    "// for (initialization; condition; update)\n",
    "for (let i = 0; i < 5; i++) {\n",
    "    console.log(i);\n",
    "}"
   ]
  },
  {
   "cell_type": "markdown",
   "id": "38149818",
   "metadata": {},
   "source": [
    "### `for...of` Loop (ES6)\n",
    "\n",
    "This is conceptually similar to Python's `for item in list` syntax."
   ]
  },
  {
   "cell_type": "code",
   "execution_count": null,
   "id": "142bf9f5",
   "metadata": {},
   "outputs": [
    {
     "name": "stdout",
     "output_type": "stream",
     "text": [
      "apple\n",
      "banana\n",
      "cherry\n"
     ]
    }
   ],
   "source": [
    "const fruits = [\"apple\", \"banana\", \"cherry\"];\n",
    "\n",
    "for (const fruit of fruits) {\n",
    "    console.log(fruit);\n",
    "}"
   ]
  },
  {
   "cell_type": "markdown",
   "id": "14ac3ab8",
   "metadata": {},
   "source": [
    "### `for...in` Loop\n",
    "\n",
    "Used to iterate over the properties of an object:"
   ]
  },
  {
   "cell_type": "code",
   "execution_count": 6,
   "id": "9a7f1af8",
   "metadata": {},
   "outputs": [
    {
     "name": "stdout",
     "output_type": "stream",
     "text": [
      "name: John\n",
      "age: 30\n",
      "job: developer\n"
     ]
    }
   ],
   "source": [
    "const person = {\n",
    "    name: \"John\",\n",
    "    age: 30,\n",
    "    job: \"developer\"\n",
    "};\n",
    "\n",
    "for (const key in person) {\n",
    "    console.log(`${key}: ${person[key]}`);\n",
    "}"
   ]
  },
  {
   "cell_type": "markdown",
   "id": "5e23fa3c",
   "metadata": {},
   "source": [
    "Be careful: `for...in` loops also iterate over inherited properties. When working with arrays, it's generally better to use `for...of` or a standard for loop."
   ]
  },
  {
   "cell_type": "markdown",
   "id": "2d02efa0",
   "metadata": {},
   "source": [
    "## `while` Loop\n",
    "\n",
    "Executes as long as a condition is true:"
   ]
  },
  {
   "cell_type": "code",
   "execution_count": 7,
   "id": "0926e6a1",
   "metadata": {},
   "outputs": [
    {
     "name": "stdout",
     "output_type": "stream",
     "text": [
      "0\n",
      "1\n",
      "2\n",
      "3\n",
      "4\n"
     ]
    },
    {
     "data": {
      "text/plain": [
       "4"
      ]
     },
     "execution_count": 7,
     "metadata": {},
     "output_type": "execute_result"
    }
   ],
   "source": [
    "let count = 0;\n",
    "\n",
    "while (count < 5) {\n",
    "    console.log(count);\n",
    "    count++;\n",
    "}"
   ]
  },
  {
   "cell_type": "markdown",
   "id": "4653d686",
   "metadata": {},
   "source": [
    "### `do...while` Loop"
   ]
  },
  {
   "cell_type": "code",
   "execution_count": 2,
   "id": "8664d198",
   "metadata": {},
   "outputs": [
    {
     "name": "stdout",
     "output_type": "stream",
     "text": [
      "0\n",
      "1\n",
      "2\n",
      "3\n",
      "4\n"
     ]
    },
    {
     "data": {
      "text/plain": [
       "4"
      ]
     },
     "execution_count": 2,
     "metadata": {},
     "output_type": "execute_result"
    }
   ],
   "source": [
    "let count = 0;\n",
    "\n",
    "do {\n",
    "    console.log(count);\n",
    "    count++;\n",
    "} while (count < 5);"
   ]
  },
  {
   "cell_type": "markdown",
   "id": "9a6823d0",
   "metadata": {},
   "source": [
    "Even if the condition is initially false, the code block executes once:"
   ]
  },
  {
   "cell_type": "code",
   "execution_count": 2,
   "id": "3f740967",
   "metadata": {},
   "outputs": [
    {
     "name": "stdout",
     "output_type": "stream",
     "text": [
      "This runs once even though count > 5\n"
     ]
    }
   ],
   "source": [
    "let count = 10;\n",
    "\n",
    "do {\n",
    "    console.log(\"This runs once even though count > 5\");\n",
    "} while (count < 5);"
   ]
  },
  {
   "cell_type": "markdown",
   "id": "92236e8d",
   "metadata": {},
   "source": [
    "## Loop Control\n",
    "\n",
    "JavaScript provides statements to control loop execution:"
   ]
  },
  {
   "cell_type": "markdown",
   "id": "7777ed5c",
   "metadata": {},
   "source": [
    "### `break` Statement\n",
    "\n",
    "Terminates the current loop immediately:"
   ]
  },
  {
   "cell_type": "code",
   "execution_count": 3,
   "id": "c6ba1866",
   "metadata": {},
   "outputs": [
    {
     "name": "stdout",
     "output_type": "stream",
     "text": [
      "0\n",
      "1\n",
      "2\n",
      "3\n",
      "4\n"
     ]
    }
   ],
   "source": [
    "for (let i = 0; i < 10; i++) {\n",
    "    if (i === 5) {\n",
    "        break; // Exit the loop when i equals 5\n",
    "    }\n",
    "    console.log(i);\n",
    "}"
   ]
  },
  {
   "cell_type": "markdown",
   "id": "274d0527",
   "metadata": {},
   "source": [
    "### `continue` Statement\n",
    "\n",
    "Skips the current iteration and continues with the next one:"
   ]
  },
  {
   "cell_type": "code",
   "execution_count": 4,
   "id": "cd1d9838",
   "metadata": {},
   "outputs": [
    {
     "name": "stdout",
     "output_type": "stream",
     "text": [
      "1\n",
      "3\n",
      "5\n",
      "7\n",
      "9\n"
     ]
    }
   ],
   "source": [
    "for (let i = 0; i < 10; i++) {\n",
    "    if (i % 2 === 0) {\n",
    "        continue; // Skip even numbers\n",
    "    }\n",
    "    console.log(i);\n",
    "}"
   ]
  },
  {
   "cell_type": "markdown",
   "id": "1d0f447a",
   "metadata": {},
   "source": [
    "### `labeled` Statements\n",
    "\n",
    "Less commonly used, but allows you to break out of nested loops:"
   ]
  },
  {
   "cell_type": "code",
   "execution_count": 5,
   "id": "692adc84",
   "metadata": {},
   "outputs": [
    {
     "name": "stdout",
     "output_type": "stream",
     "text": [
      "i=0, j=0\n",
      "i=0, j=1\n",
      "i=0, j=2\n",
      "i=1, j=0\n"
     ]
    }
   ],
   "source": [
    "outerLoop: for (let i = 0; i < 3; i++) {\n",
    "    for (let j = 0; j < 3; j++) {\n",
    "        if (i === 1 && j === 1) {\n",
    "            break outerLoop; // Breaks out of both loops\n",
    "        }\n",
    "        console.log(`i=${i}, j=${j}`);\n",
    "    }\n",
    "}"
   ]
  }
 ],
 "metadata": {
  "kernelspec": {
   "display_name": "JavaScript (Node.js)",
   "language": "javascript",
   "name": "javascript"
  },
  "language_info": {
   "file_extension": ".js",
   "mimetype": "application/javascript",
   "name": "javascript",
   "version": "20.15.1"
  }
 },
 "nbformat": 4,
 "nbformat_minor": 5
}
