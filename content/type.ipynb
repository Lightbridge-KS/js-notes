{
 "cells": [
  {
   "cell_type": "markdown",
   "metadata": {},
   "source": [
    "# JS: Type"
   ]
  },
  {
   "cell_type": "markdown",
   "metadata": {},
   "source": [
    "## Type Checking\n",
    "\n",
    "To check a variable's type, you can use the `typeof` operator:"
   ]
  },
  {
   "cell_type": "code",
   "execution_count": 2,
   "metadata": {},
   "outputs": [
    {
     "name": "stdout",
     "output_type": "stream",
     "text": [
      "number\n",
      "string\n",
      "boolean\n",
      "undefined\n",
      "object\n",
      "object\n",
      "object\n",
      "function\n"
     ]
    }
   ],
   "source": [
    "console.log(typeof 42);           // Outputs: 'number'\n",
    "console.log(typeof 'hello');      // Outputs: 'string'\n",
    "console.log(typeof true);         // Outputs: 'boolean'\n",
    "console.log(typeof undefined);    // Outputs: 'undefined'\n",
    "console.log(typeof null);         // Outputs: 'object' (This is actually a historical bug in JavaScript!)\n",
    "console.log(typeof {});           // Outputs: 'object'\n",
    "console.log(typeof []);           // Outputs: 'object' (Arrays are special objects)\n",
    "console.log(typeof function(){}); // Outputs: 'function'"
   ]
  },
  {
   "cell_type": "markdown",
   "metadata": {},
   "source": [
    "## Type Coercion"
   ]
  },
  {
   "cell_type": "markdown",
   "metadata": {},
   "source": [
    "One of JavaScript's most distinctive features is automatic type coercion - converting values from one type to another:"
   ]
  },
  {
   "cell_type": "code",
   "execution_count": 2,
   "metadata": {},
   "outputs": [
    {
     "name": "stdout",
     "output_type": "stream",
     "text": [
      "53\n",
      "2\n",
      "15\n",
      "2\n"
     ]
    }
   ],
   "source": [
    "console.log('5' + 3);      // Outputs: '53' (number converted to string)\n",
    "console.log('5' - 3);      // Outputs: 2 (string converted to number)\n",
    "console.log('5' * '3');    // Outputs: 15 (both strings converted to numbers)\n",
    "console.log(true + 1);     // Outputs: 2 (true is converted to 1)"
   ]
  },
  {
   "cell_type": "markdown",
   "metadata": {},
   "source": [
    "### String to Number"
   ]
  },
  {
   "cell_type": "code",
   "execution_count": 2,
   "metadata": {},
   "outputs": [
    {
     "name": "stdout",
     "output_type": "stream",
     "text": [
      "42.5\n"
     ]
    }
   ],
   "source": [
    "// String to Number\n",
    "let numStr = '42.5';\n",
    "\n",
    "let num1 = Number(numStr);    // 42\n",
    "console.log(num1); // Outputs: 42.5"
   ]
  },
  {
   "cell_type": "code",
   "execution_count": 3,
   "metadata": {},
   "outputs": [
    {
     "name": "stdout",
     "output_type": "stream",
     "text": [
      "42\n"
     ]
    }
   ],
   "source": [
    "let num2 = parseInt(numStr);  // 42\n",
    "console.log(num2); // Outputs: 42"
   ]
  },
  {
   "cell_type": "code",
   "execution_count": 4,
   "metadata": {},
   "outputs": [
    {
     "name": "stdout",
     "output_type": "stream",
     "text": [
      "3.14\n"
     ]
    }
   ],
   "source": [
    "let num3 = parseFloat('3.14'); // 3.14\n",
    "console.log(num3); // Outputs: 3.14"
   ]
  },
  {
   "cell_type": "code",
   "execution_count": 5,
   "metadata": {},
   "outputs": [
    {
     "name": "stdout",
     "output_type": "stream",
     "text": [
      "42\n"
     ]
    }
   ],
   "source": [
    "let num4 = +'42';             // 42 (using the unary + operator)\n",
    "console.log(num4); // Outputs: 42"
   ]
  },
  {
   "cell_type": "markdown",
   "metadata": {},
   "source": [
    "### Number to String"
   ]
  },
  {
   "cell_type": "code",
   "execution_count": 2,
   "metadata": {},
   "outputs": [
    {
     "name": "stdout",
     "output_type": "stream",
     "text": [
      "42\n"
     ]
    },
    {
     "data": {
      "text/plain": [
       "'string'"
      ]
     },
     "execution_count": 2,
     "metadata": {},
     "output_type": "execute_result"
    }
   ],
   "source": [
    "// Number to String\n",
    "let strNum = String(42);      // '42'\n",
    "console.log(strNum); // Outputs: '42'\n",
    "typeof strNum; // Outputs: 'string'"
   ]
  },
  {
   "cell_type": "code",
   "execution_count": 3,
   "metadata": {},
   "outputs": [
    {
     "name": "stdout",
     "output_type": "stream",
     "text": [
      "42\n"
     ]
    }
   ],
   "source": [
    "let strNum2 = 42 + '';        // '42' (using string concatenation)\n",
    "console.log(strNum2); // Outputs: '42'"
   ]
  },
  {
   "cell_type": "code",
   "execution_count": 3,
   "metadata": {},
   "outputs": [
    {
     "data": {
      "text/plain": [
       "'34'"
      ]
     },
     "execution_count": 3,
     "metadata": {},
     "output_type": "execute_result"
    }
   ],
   "source": [
    "let strNum3 = 34\n",
    "strNum3.toString(); // '34' (using the toString method)"
   ]
  },
  {
   "cell_type": "markdown",
   "metadata": {},
   "source": [
    "### To boolean"
   ]
  },
  {
   "cell_type": "code",
   "execution_count": 3,
   "metadata": {},
   "outputs": [],
   "source": [
    "// To Boolean\n",
    "let bool1 = Boolean(1);       // true\n",
    "let bool2 = Boolean(0);       // false\n",
    "let bool3 = !!42;             // true (using double negation)"
   ]
  }
 ],
 "metadata": {
  "kernelspec": {
   "display_name": "JavaScript (Node.js)",
   "language": "javascript",
   "name": "javascript"
  },
  "language_info": {
   "file_extension": ".js",
   "mimetype": "application/javascript",
   "name": "javascript",
   "version": "20.15.1"
  }
 },
 "nbformat": 4,
 "nbformat_minor": 2
}
