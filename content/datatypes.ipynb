{
 "cells": [
  {
   "cell_type": "markdown",
   "id": "237744be",
   "metadata": {},
   "source": [
    "# Data Types\n",
    "\n",
    "JavaScript has several built-in data types that form the foundation of how you'll work with data in your programs. Since you have experience with R and Python, I'll make some comparisons where helpful."
   ]
  },
  {
   "cell_type": "markdown",
   "id": "8047da9b",
   "metadata": {},
   "source": [
    "## Primitive Data Types\n",
    "\n",
    "JavaScript has 7 primitive data types. These are immutable (cannot be changed) and are passed by value:"
   ]
  },
  {
   "cell_type": "markdown",
   "id": "5ca51ee0",
   "metadata": {},
   "source": [
    "### Number\n",
    "\n",
    "JavaScript uses a single number type for both integers and floating-point values."
   ]
  },
  {
   "cell_type": "code",
   "execution_count": 3,
   "id": "e5924a5f",
   "metadata": {},
   "outputs": [],
   "source": [
    "// Both integers and decimals use the same type\n",
    "let integer = 42;\n",
    "let decimal = 3.14;\n",
    "let scientific = 2.998e8; // Scientific notation"
   ]
  },
  {
   "cell_type": "markdown",
   "id": "ccde6336",
   "metadata": {},
   "source": [
    "Unlike R (which has numeric) or Python (which distinguishes between `int` and `float`), JavaScript simplifies all numbers into a single type based on the IEEE 754 standard (64-bit floating-point)."
   ]
  },
  {
   "cell_type": "markdown",
   "id": "d43b5da6",
   "metadata": {},
   "source": [
    "### String\n",
    "\n",
    "Text data, surrounded by single quotes, double quotes, or backticks:"
   ]
  },
  {
   "cell_type": "code",
   "execution_count": 4,
   "id": "ce078af8",
   "metadata": {},
   "outputs": [],
   "source": [
    "let singleQuoted = 'Hello';\n",
    "let doubleQuoted = \"World\";\n",
    "let templateLiteral = `Hello ${singleQuoted}`; // Template literals (with backticks) allow variable interpolation"
   ]
  },
  {
   "cell_type": "markdown",
   "id": "ad4d9e3f",
   "metadata": {},
   "source": [
    "The backtick syntax (template literals) is particularly useful as it's similar to f-strings in Python or glue in R."
   ]
  },
  {
   "cell_type": "markdown",
   "id": "0161af74",
   "metadata": {},
   "source": [
    "### Boolean\n",
    "\n",
    "Represents logical values:"
   ]
  },
  {
   "cell_type": "code",
   "execution_count": 5,
   "id": "2684e42d",
   "metadata": {},
   "outputs": [],
   "source": [
    "let isTrue = true;\n",
    "let isFalse = false;"
   ]
  },
  {
   "cell_type": "markdown",
   "id": "3d95f8d9",
   "metadata": {},
   "source": [
    "### Undefined\n",
    "\n",
    "Represents a variable that has been declared but not assigned a value:"
   ]
  },
  {
   "cell_type": "code",
   "execution_count": 6,
   "id": "ac41a841",
   "metadata": {},
   "outputs": [
    {
     "name": "stdout",
     "output_type": "stream",
     "text": [
      "undefined\n"
     ]
    }
   ],
   "source": [
    "let undefinedVariable;\n",
    "console.log(undefinedVariable); // Outputs: undefined"
   ]
  },
  {
   "cell_type": "markdown",
   "id": "436c0048",
   "metadata": {},
   "source": [
    "This is somewhat similar to `NULL` in R or `None` in Python, but with an important distinction..."
   ]
  },
  {
   "cell_type": "markdown",
   "id": "97cf97fe",
   "metadata": {},
   "source": [
    "### Null\n",
    "\n",
    "Represents the intentional absence of any value:"
   ]
  },
  {
   "cell_type": "code",
   "execution_count": 7,
   "id": "da9a0dee",
   "metadata": {},
   "outputs": [],
   "source": [
    "let emptyValue = null;"
   ]
  },
  {
   "cell_type": "markdown",
   "id": "6284acd2",
   "metadata": {},
   "source": [
    "The difference between `undefined` and `null` often confuses beginners. Think of `undefined` as \"no value yet\" and `null` as \"intentionally empty.\""
   ]
  },
  {
   "cell_type": "markdown",
   "id": "e724cb11",
   "metadata": {},
   "source": [
    "### Symbol\n",
    "\n",
    "A newer type introduced in ES6 (2015) for creating unique identifiers:"
   ]
  },
  {
   "cell_type": "code",
   "execution_count": 8,
   "id": "96781781",
   "metadata": {},
   "outputs": [],
   "source": [
    "let uniqueId = Symbol('description');"
   ]
  },
  {
   "cell_type": "markdown",
   "id": "00afbab6",
   "metadata": {},
   "source": [
    "You likely won't use these often as a beginner, but they're important for more advanced applications."
   ]
  },
  {
   "cell_type": "markdown",
   "id": "5060ecd0",
   "metadata": {},
   "source": [
    "### BigInt\n",
    "\n",
    "Another newer type for working with integers larger than the Number type can handle:"
   ]
  },
  {
   "cell_type": "code",
   "execution_count": 9,
   "id": "cec7fd8b",
   "metadata": {},
   "outputs": [],
   "source": [
    "let hugeNumber = 9007199254740991n; // The 'n' suffix indicates a BigInt"
   ]
  },
  {
   "cell_type": "markdown",
   "id": "6446b856",
   "metadata": {},
   "source": [
    "## Reference Data Types\n",
    "\n",
    "These are **mutable** (can be changed) and are passed by reference:"
   ]
  },
  {
   "cell_type": "markdown",
   "id": "88f66de1",
   "metadata": {},
   "source": [
    "### Object\n",
    "\n",
    "The foundation of JavaScript, similar to dictionaries in Python or lists in R:"
   ]
  },
  {
   "cell_type": "code",
   "execution_count": 10,
   "id": "1ab63152",
   "metadata": {},
   "outputs": [
    {
     "name": "stdout",
     "output_type": "stream",
     "text": [
      "John\n",
      "John\n",
      "John\n"
     ]
    }
   ],
   "source": [
    "let person = {\n",
    "    name: 'John',\n",
    "    age: 30,\n",
    "    isStudent: false\n",
    "};\n",
    "\n",
    "// Accessing properties\n",
    "console.log(person.name);       // Using dot notation\n",
    "console.log(person['name']);    // Using bracket notation (like Python dictionaries)"
   ]
  },
  {
   "cell_type": "markdown",
   "id": "f00e9668",
   "metadata": {},
   "source": [
    "### Array\n",
    "\n",
    "A special type of object for storing ordered collections:"
   ]
  },
  {
   "cell_type": "code",
   "execution_count": 2,
   "id": "fe698ca9",
   "metadata": {},
   "outputs": [
    {
     "name": "stdout",
     "output_type": "stream",
     "text": [
      "apple\n"
     ]
    }
   ],
   "source": [
    "let fruits = ['apple', 'banana', 'orange'];\n",
    "\n",
    "// Accessing elements (zero-indexed, like in Python)\n",
    "console.log(fruits[0]); // Outputs: 'apple'"
   ]
  },
  {
   "cell_type": "code",
   "execution_count": 2,
   "id": "5fbae98b",
   "metadata": {},
   "outputs": [
    {
     "name": "stdout",
     "output_type": "stream",
     "text": [
      "[ <5 empty items> ]\n"
     ]
    }
   ],
   "source": [
    "const arr = new Array(5); // Creates an array of length 5\n",
    "console.log(arr); "
   ]
  },
  {
   "cell_type": "code",
   "execution_count": 13,
   "id": "bdd012de",
   "metadata": {},
   "outputs": [
    {
     "name": "stdout",
     "output_type": "stream",
     "text": [
      "[ 'h', 'e', 'l', 'l', 'o' ]\n"
     ]
    }
   ],
   "source": [
    "const arr2 = Array.from('hello'); // Creates an array from a string\n",
    "console.log(arr2); "
   ]
  },
  {
   "cell_type": "code",
   "execution_count": 15,
   "id": "f21ee079",
   "metadata": {},
   "outputs": [
    {
     "data": {
      "text/plain": [
       "'o'"
      ]
     },
     "execution_count": 15,
     "metadata": {},
     "output_type": "execute_result"
    }
   ],
   "source": [
    "// Grabbing the last element of an array\n",
    "arr2[arr2.length - 1]"
   ]
  },
  {
   "cell_type": "code",
   "execution_count": 2,
   "id": "8d5326bb",
   "metadata": {},
   "outputs": [
    {
     "name": "stdout",
     "output_type": "stream",
     "text": [
      "1 2\n"
     ]
    }
   ],
   "source": [
    "// Array destructuring\n",
    "const [x, y] = [1, 2];\n",
    "console.log(x, y);"
   ]
  },
  {
   "cell_type": "code",
   "execution_count": 3,
   "id": "c2a037f5",
   "metadata": {},
   "outputs": [
    {
     "name": "stdout",
     "output_type": "stream",
     "text": [
      "1 2 [ 3, 4, 5 ]\n"
     ]
    }
   ],
   "source": [
    "const [a, b, ...rest] = [1, 2, 3, 4, 5]; // 'rest' will be an array of the remaining elements\n",
    "console.log(a, b, rest); // Outputs: 1 2 [3, 4, 5]"
   ]
  },
  {
   "cell_type": "code",
   "execution_count": 2,
   "id": "4cc4f50e",
   "metadata": {},
   "outputs": [
    {
     "name": "stdout",
     "output_type": "stream",
     "text": [
      "[ 1, 2, 3, 4 ] [ 1, 2, 3, 4, 'hello' ]\n"
     ]
    }
   ],
   "source": [
    "// Copying arrays using spread operator\n",
    "\n",
    "const x = [1, 2, 3, 4]\n",
    "const y = [...x]\n",
    "\n",
    "y.push(\"hello\")\n",
    "\n",
    "console.log(x, y)"
   ]
  },
  {
   "cell_type": "markdown",
   "id": "fe269443",
   "metadata": {},
   "source": [
    "Unlike R's vectors which are 1-indexed, JavaScript arrays are 0-indexed like Python lists."
   ]
  },
  {
   "cell_type": "markdown",
   "id": "bd7974ea",
   "metadata": {},
   "source": [
    "### Function\n",
    "\n",
    "Functions are actually objects in JavaScript:"
   ]
  },
  {
   "cell_type": "code",
   "execution_count": 12,
   "id": "a675ad27",
   "metadata": {},
   "outputs": [
    {
     "name": "stdout",
     "output_type": "stream",
     "text": [
      "Hello, John!\n"
     ]
    }
   ],
   "source": [
    "function greet(name) {\n",
    "    return `Hello, ${name}!`;\n",
    "}\n",
    "\n",
    "// Functions can be assigned to variables\n",
    "let sayHello = greet;\n",
    "console.log(sayHello('John')); // Outputs: 'Hello, John!'"
   ]
  },
  {
   "cell_type": "markdown",
   "id": "93b433e5",
   "metadata": {},
   "source": [
    "This is similar to how you can assign functions to variables in R and Python, but JavaScript treats functions as first-class objects more thoroughly."
   ]
  }
 ],
 "metadata": {
  "kernelspec": {
   "display_name": "JavaScript (Node.js)",
   "language": "javascript",
   "name": "javascript"
  },
  "language_info": {
   "file_extension": ".js",
   "mimetype": "application/javascript",
   "name": "javascript",
   "version": "20.15.1"
  }
 },
 "nbformat": 4,
 "nbformat_minor": 5
}
